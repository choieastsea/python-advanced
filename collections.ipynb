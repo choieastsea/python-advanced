{
 "cells": [
  {
   "cell_type": "markdown",
   "metadata": {},
   "source": [
    "# content\n",
    "1. namedtuple\n",
    "2. OrderedDict\n",
    "3. defaultdict"
   ]
  },
  {
   "cell_type": "markdown",
   "metadata": {},
   "source": [
    "## namedtuple\n",
    "tuple은 label이 없지만, immutable하고 가벼움.\n",
    "\n",
    "tuple을 class처럼 이용하기 위해 namedtuple 사용 가능"
   ]
  },
  {
   "cell_type": "code",
   "execution_count": 8,
   "metadata": {},
   "outputs": [
    {
     "name": "stdout",
     "output_type": "stream",
     "text": [
      "Point(x=1, y=-4)\n",
      "1 -4\n"
     ]
    }
   ],
   "source": [
    "from collections import namedtuple\n",
    "\n",
    "Point = namedtuple('Point','x,y')\n",
    "pt = Point(1,-4)\n",
    "print(pt)\n",
    "print(pt.x, pt.y)"
   ]
  },
  {
   "cell_type": "code",
   "execution_count": 9,
   "metadata": {},
   "outputs": [
    {
     "ename": "AttributeError",
     "evalue": "can't set attribute",
     "output_type": "error",
     "traceback": [
      "\u001b[0;31m---------------------------------------------------------------------------\u001b[0m",
      "\u001b[0;31mAttributeError\u001b[0m                            Traceback (most recent call last)",
      "\u001b[1;32m/Users/eastsea/dev/vs_code_workspace/python-advanced/collections.ipynb Cell 4\u001b[0m line \u001b[0;36m1\n\u001b[0;32m----> <a href='vscode-notebook-cell:/Users/eastsea/dev/vs_code_workspace/python-advanced/collections.ipynb#X12sZmlsZQ%3D%3D?line=0'>1</a>\u001b[0m pt\u001b[39m.\u001b[39;49mx \u001b[39m=\u001b[39m \u001b[39m2\u001b[39m\n",
      "\u001b[0;31mAttributeError\u001b[0m: can't set attribute"
     ]
    }
   ],
   "source": [
    "pt.x = 2 # attribute 변경 불가함!"
   ]
  },
  {
   "cell_type": "markdown",
   "metadata": {},
   "source": [
    "## OrderedDict\n",
    "순서가 유지되는 dictionary.\n",
    "\n",
    "python 3.6 이상의 경우, dict에서도 OrderedDict와 같이 대입 순서가 유지된다. "
   ]
  },
  {
   "cell_type": "code",
   "execution_count": 5,
   "metadata": {},
   "outputs": [
    {
     "name": "stdout",
     "output_type": "stream",
     "text": [
      "OrderedDict([('b', 2), ('c', 3), ('d', 4), ('a', 1)])\n"
     ]
    }
   ],
   "source": [
    "from collections import OrderedDict\n",
    "ordered_dict = OrderedDict()\n",
    "ordered_dict['b'] = 2\n",
    "ordered_dict['c'] = 3\n",
    "ordered_dict['d'] = 4\n",
    "ordered_dict['a'] = 1\n",
    "\n",
    "print(ordered_dict)"
   ]
  },
  {
   "cell_type": "markdown",
   "metadata": {},
   "source": [
    "그치만, 순서가 보장되어야 하는 경우 (순서가 다른 두 dictionary를 다르게 구분해야하는 경우)에는 `OrderedDict`를 사용하도록 하자."
   ]
  },
  {
   "cell_type": "code",
   "execution_count": 6,
   "metadata": {},
   "outputs": [
    {
     "name": "stdout",
     "output_type": "stream",
     "text": [
      "False\n",
      "True\n"
     ]
    }
   ],
   "source": [
    "from collections import OrderedDict\n",
    "\n",
    "dict1 = OrderedDict()\n",
    "dict1['b'] = 2\n",
    "dict1['c'] = 3\n",
    "dict1['d'] = 4\n",
    "dict1['a'] = 1\n",
    "\n",
    "dict2 = OrderedDict()\n",
    "dict2['a'] = 1\n",
    "dict2['b'] = 2\n",
    "dict2['c'] = 3\n",
    "dict2['d'] = 4\n",
    "\n",
    "print(dict1 == dict2)\n",
    "\n",
    "dict1 = dict()\n",
    "dict1['b'] = 2\n",
    "dict1['c'] = 3\n",
    "dict1['d'] = 4\n",
    "dict1['a'] = 1\n",
    "\n",
    "dict2 = dict()\n",
    "dict2['a'] = 1\n",
    "dict2['b'] = 2\n",
    "dict2['c'] = 3\n",
    "dict2['d'] = 4\n",
    "\n",
    "print(dict1 == dict2)\n"
   ]
  },
  {
   "cell_type": "markdown",
   "metadata": {},
   "source": [
    "## defaultdict\n",
    "\n",
    "기본적으로 default value를 갖도록한 dictionary\n",
    "\n",
    "생성되지 않았던 key에 접근시, `KeyError`를 일으키지 않고 default값을 할당해준다\n"
   ]
  },
  {
   "cell_type": "code",
   "execution_count": 17,
   "metadata": {},
   "outputs": [
    {
     "name": "stdout",
     "output_type": "stream",
     "text": [
      "defaultdict(<class 'int'>, {})\n",
      "0\n",
      "defaultdict(<class 'int'>, {'a': 0})\n"
     ]
    }
   ],
   "source": [
    "from collections import defaultdict\n",
    "\n",
    "d = defaultdict(int)\n",
    "print(d)\n",
    "print(d['a'])\n",
    "print(d)"
   ]
  },
  {
   "cell_type": "markdown",
   "metadata": {},
   "source": [
    "0을 생성하는 이유는, 인자로 전달된 int 함수가 default로 0을 리턴하기 때문"
   ]
  },
  {
   "cell_type": "code",
   "execution_count": 22,
   "metadata": {},
   "outputs": [
    {
     "data": {
      "text/plain": [
       "0"
      ]
     },
     "execution_count": 22,
     "metadata": {},
     "output_type": "execute_result"
    }
   ],
   "source": [
    "int()"
   ]
  },
  {
   "cell_type": "markdown",
   "metadata": {},
   "source": [
    "그렇다면, 구체적인 default value를 주고 싶다면?\n",
    "\n",
    "`lambda function`을 이용하자!"
   ]
  },
  {
   "cell_type": "code",
   "execution_count": 19,
   "metadata": {},
   "outputs": [
    {
     "name": "stdout",
     "output_type": "stream",
     "text": [
      "[None, 1]\n"
     ]
    }
   ],
   "source": [
    "from collections import defaultdict\n",
    "\n",
    "myd = defaultdict(lambda:[None])\n",
    "myd['k'].append(1)\n",
    "print(myd['k'])\n"
   ]
  }
 ],
 "metadata": {
  "kernelspec": {
   "display_name": "Python 3",
   "language": "python",
   "name": "python3"
  },
  "language_info": {
   "codemirror_mode": {
    "name": "ipython",
    "version": 3
   },
   "file_extension": ".py",
   "mimetype": "text/x-python",
   "name": "python",
   "nbconvert_exporter": "python",
   "pygments_lexer": "ipython3",
   "version": "3.11.6"
  }
 },
 "nbformat": 4,
 "nbformat_minor": 2
}
