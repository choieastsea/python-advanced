{
 "cells": [
  {
   "cell_type": "markdown",
   "metadata": {},
   "source": [
    "# Content\n",
    "\n",
    "> reference : [python logging doc](https://docs.python.org/ko/3/howto/logging.html)\n"
   ]
  },
  {
   "cell_type": "markdown",
   "metadata": {},
   "source": [
    "logging 모듈을 통하여 로그를 남길 수 있다.\n",
    "\n",
    "기본적으로 root logger를 사용하므로, root도 같이 출력될 것이다."
   ]
  },
  {
   "cell_type": "code",
   "execution_count": 4,
   "metadata": {},
   "outputs": [
    {
     "name": "stderr",
     "output_type": "stream",
     "text": [
      "WARNING:root:This is a warning message\n",
      "ERROR:root:This is a error message\n",
      "CRITICAL:root:This is a critical message\n"
     ]
    }
   ],
   "source": [
    "import logging\n",
    "\n",
    "logging.debug('This is a debug message')\n",
    "logging.info('This is a info message')\n",
    "logging.warning('This is a warning message')\n",
    "logging.error('This is a error message')\n",
    "logging.critical('This is a critical message')"
   ]
  },
  {
   "cell_type": "markdown",
   "metadata": {},
   "source": [
    "logger를 만들고, basicConfig를 설정하여 로깅에 대한 설정을 할 수 있다.\n",
    "\n",
    "또한, 로그 레벨에 따라 stdout이 아닌 다양한 방법을 이용하여 로그를 설정할 수 있다."
   ]
  },
  {
   "cell_type": "code",
   "execution_count": 11,
   "metadata": {},
   "outputs": [
    {
     "name": "stderr",
     "output_type": "stream",
     "text": [
      "12/19/2023 14:38:54 - mylog - WARNING - This is a warning message\n",
      "WARNING:mylog:This is a warning message\n",
      "12/19/2023 14:38:54 - mylog - ERROR - This is a error message\n",
      "ERROR:mylog:This is a error message\n",
      "12/19/2023 14:38:54 - mylog - CRITICAL - This is a critical message\n",
      "CRITICAL:mylog:This is a critical message\n"
     ]
    }
   ],
   "source": [
    "import logging\n",
    "logger = logging.getLogger('mylog')\n",
    "\n",
    "# create handler\n",
    "stream_h = logging.StreamHandler()\n",
    "file_h = logging.FileHandler('myfile.log')\n",
    "\n",
    "# level and format\n",
    "stream_h.setLevel(logging.WARNING)\n",
    "file_h.setLevel(logging.ERROR)\n",
    "\n",
    "formatter = logging.Formatter('%(asctime)s - %(name)s - %(levelname)s - %(message)s', datefmt='%m/%d/%Y %H:%M:%S')\n",
    "\n",
    "stream_h.setFormatter(formatter)\n",
    "file_h.setFormatter(formatter)\n",
    "\n",
    "logger.addHandler(stream_h)\n",
    "logger.addHandler(file_h)\n",
    "\n",
    "logger.warning('This is a warning message')\n",
    "logger.error('This is a error message')\n",
    "logger.critical('This is a critical message')"
   ]
  },
  {
   "cell_type": "markdown",
   "metadata": {},
   "source": [
    "myfile.log 에는 다음과 같이 생성되었을 것이다.\n",
    "```log\n",
    "12/19/2023 14:38:54 - mylog - ERROR - This is a error message\n",
    "12/19/2023 14:38:54 - mylog - CRITICAL - This is a critical message\n",
    "\n",
    "```\n",
    "\n",
    "또한, log config file을 만들어서 이에 대한 설정을 만들어 둘 수도 있다.\n",
    "\n",
    "추가적으로, exc_info를 통하여 에러 정보를 자세히 볼 수 있는 방법도 있다."
   ]
  },
  {
   "cell_type": "code",
   "execution_count": 13,
   "metadata": {},
   "outputs": [
    {
     "name": "stderr",
     "output_type": "stream",
     "text": [
      "ERROR:root:list index out of range\n",
      "Traceback (most recent call last):\n",
      "  File \"/var/folders/89/dfz_fqtj1qx_3tkgk0jc3plh0000gn/T/ipykernel_89624/2197682512.py\", line 4, in <module>\n",
      "    value = a[4]\n",
      "            ~^^^\n",
      "IndexError: list index out of range\n"
     ]
    }
   ],
   "source": [
    "import logging\n",
    "try:\n",
    "    a = [1,2,3]\n",
    "    value = a[4]\n",
    "except IndexError as e:\n",
    "    logging.error(e, exc_info=True)"
   ]
  },
  {
   "cell_type": "markdown",
   "metadata": {},
   "source": [
    "`traceback`모듈을 이용하는 방법도 있다."
   ]
  },
  {
   "cell_type": "code",
   "execution_count": 14,
   "metadata": {},
   "outputs": [
    {
     "name": "stderr",
     "output_type": "stream",
     "text": [
      "ERROR:root:This error is Traceback (most recent call last):\n",
      "  File \"/var/folders/89/dfz_fqtj1qx_3tkgk0jc3plh0000gn/T/ipykernel_89624/3681615363.py\", line 5, in <module>\n",
      "    value = a[4]\n",
      "            ~^^^\n",
      "IndexError: list index out of range\n",
      "\n"
     ]
    }
   ],
   "source": [
    "import logging\n",
    "import traceback\n",
    "try:\n",
    "    a = [1, 2, 3]\n",
    "    value = a[4]\n",
    "except:\n",
    "    logging.error('This error is %s', traceback.format_exc())"
   ]
  },
  {
   "cell_type": "markdown",
   "metadata": {},
   "source": [
    "큰 프로젝트에서는 log file이 커질 것이다.\n",
    "따라서 log file을 rotating 할 수 있다."
   ]
  },
  {
   "cell_type": "code",
   "execution_count": null,
   "metadata": {},
   "outputs": [],
   "source": [
    "import logging\n",
    "from logging.handlers import RotatingFileHandler\n",
    "\n",
    "logger = logging.getLogger('rotatelog')\n",
    "logger.setLevel(logging.INFO)\n",
    "\n",
    "handler = RotatingFileHandler('app.log', maxBytes=2000, backupCount=5)\n",
    "logger.addHandler(handler)\n",
    "\n",
    "for _ in range(10000):\n",
    "    logger.info('Hello world!')"
   ]
  },
  {
   "cell_type": "markdown",
   "metadata": {},
   "source": [
    "app.log부터, app.log.5 까지 생성될 것이다.\n",
    "\n",
    "이렇게 로그 파일의 크기를 유지하며 관리할 수 있다.\n",
    "\n",
    "또한, `TimeRotatingFileHandler`를 통하여 정해진 시간마다 로그파일을 만들어 주는 방법도 생각해 볼 수 있다."
   ]
  }
 ],
 "metadata": {
  "kernelspec": {
   "display_name": "Python 3",
   "language": "python",
   "name": "python3"
  },
  "language_info": {
   "codemirror_mode": {
    "name": "ipython",
    "version": 3
   },
   "file_extension": ".py",
   "mimetype": "text/x-python",
   "name": "python",
   "nbconvert_exporter": "python",
   "pygments_lexer": "ipython3",
   "version": "3.11.6"
  }
 },
 "nbformat": 4,
 "nbformat_minor": 2
}
